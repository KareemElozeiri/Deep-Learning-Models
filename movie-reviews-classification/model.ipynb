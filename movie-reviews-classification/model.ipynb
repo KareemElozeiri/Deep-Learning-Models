{
 "cells": [
  {
   "cell_type": "markdown",
   "metadata": {},
   "source": [
    "##### Importing Data :"
   ]
  },
  {
   "cell_type": "code",
   "execution_count": 21,
   "metadata": {},
   "outputs": [],
   "source": [
    "from keras.datasets import imdb \n",
    "\n",
    "(d_train, l_train) , (d_test, l_test) = imdb.load_data(num_words=10000)"
   ]
  },
  {
   "cell_type": "markdown",
   "metadata": {},
   "source": [
    "##### Experimenting with word decoding from the given imdb data :"
   ]
  },
  {
   "cell_type": "code",
   "execution_count": 22,
   "metadata": {},
   "outputs": [],
   "source": [
    "word_index = imdb.get_word_index()\n",
    "word_dict = dict([(word,index) for (index, word) in word_index.items()])"
   ]
  },
  {
   "cell_type": "code",
   "execution_count": 23,
   "metadata": {},
   "outputs": [
    {
     "data": {
      "text/plain": [
       "\"$ worst mistake of my life br br i picked this movie up at target for 5 because i figured hey it's sandler i can get some cheap laughs i was wrong completely wrong mid way through the film all three of my friends were asleep and i was still suffering worst plot worst script worst movie i have ever seen i wanted to hit my head up against a wall for an hour then i'd stop and you know why because it felt damn good upon bashing my head in i stuck that damn movie in the $ and watched it burn and that felt better than anything else i've ever done it took american psycho army of darkness and kill bill just to get over that crap i hate you sandler for actually going through with this and ruining a whole day of my life\""
      ]
     },
     "execution_count": 23,
     "metadata": {},
     "output_type": "execute_result"
    }
   ],
   "source": [
    "example = ' '.join([word_dict.get(i-3,'$') for i in d_train[4]])\n",
    "example"
   ]
  },
  {
   "cell_type": "markdown",
   "metadata": {},
   "source": [
    "#### Preparing the data for the NN :"
   ]
  },
  {
   "cell_type": "code",
   "execution_count": 25,
   "metadata": {},
   "outputs": [
    {
     "data": {
      "text/plain": [
       "array([0., 1., 1., ..., 0., 0., 0.])"
      ]
     },
     "execution_count": 25,
     "metadata": {},
     "output_type": "execute_result"
    }
   ],
   "source": [
    "import numpy as np\n",
    "\n",
    "#creating 2D tensor to hold the info for words for all reviews the review \n",
    "def vectorize_sequences(sequences, dimensions):\n",
    "    results = np.zeros((len(sequences),dimensions))\n",
    "    for i, sequence in enumerate(sequences):\n",
    "        results[i,sequence] = 1\n",
    "    return results\n",
    "\n",
    "X_train = vectorize_sequences(d_train,int(1e4))\n",
    "X_test = vectorize_sequences(d_test,int(1e4))\n",
    "#showing a sample vector\n",
    "X_train[0]"
   ]
  },
  {
   "cell_type": "code",
   "execution_count": 26,
   "metadata": {},
   "outputs": [
    {
     "data": {
      "text/plain": [
       "array([[0., 1., 1., ..., 0., 0., 0.],\n",
       "       [0., 1., 1., ..., 0., 0., 0.],\n",
       "       [0., 1., 1., ..., 0., 0., 0.],\n",
       "       ...,\n",
       "       [0., 1., 1., ..., 0., 0., 0.],\n",
       "       [0., 1., 1., ..., 0., 0., 0.],\n",
       "       [0., 1., 1., ..., 0., 0., 0.]])"
      ]
     },
     "execution_count": 26,
     "metadata": {},
     "output_type": "execute_result"
    }
   ],
   "source": [
    "X_train"
   ]
  },
  {
   "cell_type": "code",
   "execution_count": 27,
   "metadata": {},
   "outputs": [],
   "source": [
    "y_train = np.asarray(l_train).astype(\"float32\")\n",
    "y_test = np.asarray(l_test).astype(\"float32\")"
   ]
  },
  {
   "cell_type": "markdown",
   "metadata": {},
   "source": [
    "#### Building the Neural Net :"
   ]
  },
  {
   "cell_type": "code",
   "execution_count": 28,
   "metadata": {},
   "outputs": [],
   "source": [
    "from keras import models, layers\n",
    "\n",
    "model = models.Sequential()\n",
    "#adding our model layers\n",
    "model.add(layers.Dense(16, activation=\"relu\", input_shape=[int(1e4)]))\n",
    "model.add(layers.Dense(16,activation=\"relu\"))\n",
    "model.add(layers.Dense(1,activation=\"sigmoid\"))"
   ]
  },
  {
   "cell_type": "code",
   "execution_count": 29,
   "metadata": {},
   "outputs": [],
   "source": [
    "#specifying optimzier, loss function and metrics to monitor\n",
    "model.compile(optimizer=\"rmsprop\",loss=\"binary_crossentropy\",metrics=[\"acc\"])"
   ]
  },
  {
   "cell_type": "markdown",
   "metadata": {},
   "source": [
    "##### Training the model :"
   ]
  },
  {
   "cell_type": "code",
   "execution_count": 30,
   "metadata": {},
   "outputs": [],
   "source": [
    "#partitioning validation data\n",
    "x_validate = X_train[-int(1e4):]\n",
    "y_validate = y_train[-int(1e4):]\n",
    "\n",
    "partial_x_train = X_train[:-int(1e4)]\n",
    "partial_y_train = y_train[:-int(1e4)]"
   ]
  },
  {
   "cell_type": "code",
   "execution_count": 31,
   "metadata": {},
   "outputs": [
    {
     "name": "stdout",
     "output_type": "stream",
     "text": [
      "Epoch 1/20\n",
      "30/30 [==============================] - 81s 2s/step - loss: 0.5332 - acc: 0.7821 - val_loss: 0.4189 - val_acc: 0.8568\n",
      "Epoch 2/20\n",
      "30/30 [==============================] - 3s 97ms/step - loss: 0.3251 - acc: 0.9002 - val_loss: 0.3214 - val_acc: 0.8780\n",
      "Epoch 3/20\n",
      "30/30 [==============================] - 2s 63ms/step - loss: 0.2315 - acc: 0.9247 - val_loss: 0.2919 - val_acc: 0.8853\n",
      "Epoch 4/20\n",
      "30/30 [==============================] - 1s 51ms/step - loss: 0.1812 - acc: 0.9433 - val_loss: 0.2754 - val_acc: 0.8905\n",
      "Epoch 5/20\n",
      "30/30 [==============================] - 2s 57ms/step - loss: 0.1472 - acc: 0.9529 - val_loss: 0.2785 - val_acc: 0.8909\n",
      "Epoch 6/20\n",
      "30/30 [==============================] - 1s 48ms/step - loss: 0.1203 - acc: 0.9642 - val_loss: 0.2975 - val_acc: 0.8860\n",
      "Epoch 7/20\n",
      "30/30 [==============================] - 1s 48ms/step - loss: 0.0977 - acc: 0.9717 - val_loss: 0.3145 - val_acc: 0.8845\n",
      "Epoch 8/20\n",
      "30/30 [==============================] - 1s 49ms/step - loss: 0.0819 - acc: 0.9769 - val_loss: 0.3286 - val_acc: 0.8858\n",
      "Epoch 9/20\n",
      "30/30 [==============================] - 1s 49ms/step - loss: 0.0659 - acc: 0.9825 - val_loss: 0.3566 - val_acc: 0.8816\n",
      "Epoch 10/20\n",
      "30/30 [==============================] - 2s 61ms/step - loss: 0.0550 - acc: 0.9857 - val_loss: 0.3816 - val_acc: 0.8795\n",
      "Epoch 11/20\n",
      "30/30 [==============================] - 2s 53ms/step - loss: 0.0429 - acc: 0.9900 - val_loss: 0.4237 - val_acc: 0.8735\n",
      "Epoch 12/20\n",
      "30/30 [==============================] - 2s 53ms/step - loss: 0.0347 - acc: 0.9920 - val_loss: 0.4609 - val_acc: 0.8711\n",
      "Epoch 13/20\n",
      "30/30 [==============================] - 1s 50ms/step - loss: 0.0290 - acc: 0.9927 - val_loss: 0.4724 - val_acc: 0.8749\n",
      "Epoch 14/20\n",
      "30/30 [==============================] - 1s 49ms/step - loss: 0.0232 - acc: 0.9955 - val_loss: 0.5103 - val_acc: 0.8719\n",
      "Epoch 15/20\n",
      "30/30 [==============================] - 2s 62ms/step - loss: 0.0146 - acc: 0.9978 - val_loss: 0.5492 - val_acc: 0.8708\n",
      "Epoch 16/20\n",
      "30/30 [==============================] - 1s 50ms/step - loss: 0.0136 - acc: 0.9982 - val_loss: 0.5847 - val_acc: 0.8706\n",
      "Epoch 17/20\n",
      "30/30 [==============================] - 2s 57ms/step - loss: 0.0130 - acc: 0.9969 - val_loss: 0.6156 - val_acc: 0.8705\n",
      "Epoch 18/20\n",
      "30/30 [==============================] - 1s 49ms/step - loss: 0.0056 - acc: 0.9996 - val_loss: 0.6494 - val_acc: 0.8678\n",
      "Epoch 19/20\n",
      "30/30 [==============================] - 2s 50ms/step - loss: 0.0095 - acc: 0.9975 - val_loss: 0.6811 - val_acc: 0.8671\n",
      "Epoch 20/20\n",
      "30/30 [==============================] - 1s 48ms/step - loss: 0.0032 - acc: 0.9999 - val_loss: 0.7145 - val_acc: 0.8661\n"
     ]
    }
   ],
   "source": [
    "history  = model.fit(partial_x_train, partial_y_train, epochs=20, batch_size=512, validation_data=(x_validate,y_validate))"
   ]
  },
  {
   "cell_type": "markdown",
   "metadata": {},
   "source": [
    "##### Plotting the loss, accuracy of the model"
   ]
  },
  {
   "cell_type": "code",
   "execution_count": null,
   "metadata": {},
   "outputs": [
    {
     "data": {
      "image/png": "[encoded data removed]",
      "text/plain": [
       "<Figure size 432x288 with 1 Axes>"
      ]
     },
     "metadata": {
      "needs_background": "light"
     },
     "output_type": "display_data"
    }
   ],
   "source": [
    "import matplotlib.pyplot as plt \n",
    "%matplotlib inline\n",
    "\n",
    "history_dict = history.history\n",
    "loss_values = history_dict['loss']\n",
    "validation_loss_values = history_dict['val_loss']\n",
    "\n",
    "epochs = range(1, len(loss_values)+1)\n",
    "\n",
    "plt.plot(epochs, loss_values, 'ro', label=\"Training Loss\")\n",
    "plt.plot(epochs, validation_loss_values, 'r', label=\"Validation Loss\")\n",
    "plt.title(\"Training and Validation Loss\")\n",
    "plt.xlabel(\"Epochs\")\n",
    "plt.ylabel(\"Loss\")\n",
    "plt.legend()\n",
    "plt.show()\n"
   ]
  },
  {
   "cell_type": "code",
   "execution_count": null,
   "metadata": {},
   "outputs": [
    {
     "data": {
      "image/png": "[encoded data removed]",
      "text/plain": [
       "<Figure size 432x288 with 1 Axes>"
      ]
     },
     "metadata": {
      "needs_background": "light"
     },
     "output_type": "display_data"
    }
   ],
   "source": [
    "training_acc = history_dict[\"acc\"]\n",
    "validation_acc = history_dict[\"val_acc\"]\n",
    "\n",
    "plt.plot(epochs,training_acc,\"bo\",label=\"Training Accuracy\")\n",
    "plt.plot(epochs, validation_acc, \"b\", label=\"Validation Accuracy\")\n",
    "\n",
    "plt.xlabel(\"Epochs\")\n",
    "plt.ylabel(\"Accuracy\")\n",
    "plt.legend()\n",
    "plt.show()"
   ]
  },
  {
   "cell_type": "code",
   "execution_count": null,
   "metadata": {},
   "outputs": [],
   "source": []
  }
 ],
 "metadata": {
  "kernelspec": {
   "display_name": "Python 3",
   "language": "python",
   "name": "python3"
  },
  "language_info": {
   "codemirror_mode": {
    "name": "ipython",
    "version": 3
   },
   "file_extension": ".py",
   "mimetype": "text/x-python",
   "name": "python",
   "nbconvert_exporter": "python",
   "pygments_lexer": "ipython3",
   "version": "3.10.2"
  }
 },
 "nbformat": 4,
 "nbformat_minor": 2
}
