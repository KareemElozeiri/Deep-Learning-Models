{
 "cells": [
  {
   "cell_type": "markdown",
   "metadata": {},
   "source": [
    "##### Importing Data :"
   ]
  },
  {
   "cell_type": "code",
   "execution_count": 1,
   "metadata": {},
   "outputs": [],
   "source": [
    "from keras.datasets import imdb \n",
    "\n",
    "(d_train, l_train) , (d_test, l_test) = imdb.load_data(num_words=10000)"
   ]
  },
  {
   "cell_type": "markdown",
   "metadata": {},
   "source": [
    "##### Experimenting with word decoding from the given imdb data :"
   ]
  },
  {
   "cell_type": "code",
   "execution_count": 2,
   "metadata": {},
   "outputs": [],
   "source": [
    "word_index = imdb.get_word_index()\n",
    "word_dict = dict([(word,index) for (index, word) in word_index.items()])"
   ]
  },
  {
   "cell_type": "code",
   "execution_count": 3,
   "metadata": {},
   "outputs": [
    {
     "data": {
      "text/plain": [
       "\"$ worst mistake of my life br br i picked this movie up at target for 5 because i figured hey it's sandler i can get some cheap laughs i was wrong completely wrong mid way through the film all three of my friends were asleep and i was still suffering worst plot worst script worst movie i have ever seen i wanted to hit my head up against a wall for an hour then i'd stop and you know why because it felt damn good upon bashing my head in i stuck that damn movie in the $ and watched it burn and that felt better than anything else i've ever done it took american psycho army of darkness and kill bill just to get over that crap i hate you sandler for actually going through with this and ruining a whole day of my life\""
      ]
     },
     "execution_count": 3,
     "metadata": {},
     "output_type": "execute_result"
    }
   ],
   "source": [
    "example = ' '.join([word_dict.get(i-3,'$') for i in d_train[4]])\n",
    "example"
   ]
  },
  {
   "cell_type": "markdown",
   "metadata": {},
   "source": [
    "#### Preparing the data for the NN :"
   ]
  },
  {
   "cell_type": "code",
   "execution_count": 4,
   "metadata": {},
   "outputs": [
    {
     "data": {
      "text/plain": [
       "array([0., 1., 1., ..., 0., 0., 0.])"
      ]
     },
     "execution_count": 4,
     "metadata": {},
     "output_type": "execute_result"
    }
   ],
   "source": [
    "import numpy as np\n",
    "\n",
    "#creating 2D tensor to hold the info for words for all reviews the review \n",
    "def vectorize_sequences(sequences, dimensions):\n",
    "    results = np.zeros((len(sequences),dimensions))\n",
    "    for i, sequence in enumerate(sequences):\n",
    "        results[i,sequence] = 1\n",
    "    return results\n",
    "\n",
    "X_train = vectorize_sequences(d_train,int(1e4))\n",
    "X_test = vectorize_sequences(d_test,int(1e4))\n",
    "#showing a sample vector\n",
    "X_train[0]"
   ]
  },
  {
   "cell_type": "code",
   "execution_count": 5,
   "metadata": {},
   "outputs": [
    {
     "data": {
      "text/plain": [
       "array([[0., 1., 1., ..., 0., 0., 0.],\n",
       "       [0., 1., 1., ..., 0., 0., 0.],\n",
       "       [0., 1., 1., ..., 0., 0., 0.],\n",
       "       ...,\n",
       "       [0., 1., 1., ..., 0., 0., 0.],\n",
       "       [0., 1., 1., ..., 0., 0., 0.],\n",
       "       [0., 1., 1., ..., 0., 0., 0.]])"
      ]
     },
     "execution_count": 5,
     "metadata": {},
     "output_type": "execute_result"
    }
   ],
   "source": [
    "X_train"
   ]
  },
  {
   "cell_type": "code",
   "execution_count": 6,
   "metadata": {},
   "outputs": [],
   "source": [
    "y_train = np.asarray(l_train).astype(\"float32\")\n",
    "y_test = np.asarray(l_test).astype(\"float32\")"
   ]
  },
  {
   "cell_type": "markdown",
   "metadata": {},
   "source": [
    "#### Building the Neural Net :"
   ]
  },
  {
   "cell_type": "code",
   "execution_count": 7,
   "metadata": {},
   "outputs": [],
   "source": [
    "from keras import models, layers\n",
    "\n",
    "model = models.Sequential()\n",
    "#adding our model layers\n",
    "model.add(layers.Dense(16, activation=\"relu\", input_shape=[int(1e4)]))\n",
    "model.add(layers.Dense(16,activation=\"relu\"))\n",
    "model.add(layers.Dense(1,activation=\"sigmoid\"))"
   ]
  },
  {
   "cell_type": "code",
   "execution_count": 8,
   "metadata": {},
   "outputs": [],
   "source": [
    "#specifying optimzier, loss function and metrics to monitor\n",
    "model.compile(optimizer=\"rmsprop\",loss=\"binary_crossentropy\",metrics=[\"acc\"])"
   ]
  },
  {
   "cell_type": "markdown",
   "metadata": {},
   "source": [
    "##### Training the model :"
   ]
  },
  {
   "cell_type": "code",
   "execution_count": 9,
   "metadata": {},
   "outputs": [],
   "source": [
    "#partitioning validation data\n",
    "x_validate = X_train[-int(1e4):]\n",
    "y_validate = y_train[-int(1e4):]\n",
    "\n",
    "partial_x_train = X_train[:-int(1e4)]\n",
    "partial_y_train = y_train[:-int(1e4)]"
   ]
  },
  {
   "cell_type": "code",
   "execution_count": 10,
   "metadata": {},
   "outputs": [
    {
     "name": "stdout",
     "output_type": "stream",
     "text": [
      "Epoch 1/20\n",
      "30/30 [==============================] - 19s 410ms/step - loss: 0.5215 - acc: 0.7735 - val_loss: 0.3955 - val_acc: 0.8745\n",
      "Epoch 2/20\n",
      "30/30 [==============================] - 2s 68ms/step - loss: 0.3165 - acc: 0.9041 - val_loss: 0.3103 - val_acc: 0.8869\n",
      "Epoch 3/20\n",
      "30/30 [==============================] - 2s 60ms/step - loss: 0.2344 - acc: 0.9243 - val_loss: 0.2979 - val_acc: 0.8804\n",
      "Epoch 4/20\n",
      "30/30 [==============================] - 2s 51ms/step - loss: 0.1818 - acc: 0.9429 - val_loss: 0.2735 - val_acc: 0.8908\n",
      "Epoch 5/20\n",
      "30/30 [==============================] - 2s 56ms/step - loss: 0.1499 - acc: 0.9528 - val_loss: 0.2831 - val_acc: 0.8874\n",
      "Epoch 6/20\n",
      "30/30 [==============================] - 2s 58ms/step - loss: 0.1227 - acc: 0.9617 - val_loss: 0.2949 - val_acc: 0.8858\n",
      "Epoch 7/20\n",
      "30/30 [==============================] - 2s 57ms/step - loss: 0.1047 - acc: 0.9691 - val_loss: 0.3033 - val_acc: 0.8848\n",
      "Epoch 8/20\n",
      "30/30 [==============================] - 2s 66ms/step - loss: 0.0850 - acc: 0.9762 - val_loss: 0.3183 - val_acc: 0.8830\n",
      "Epoch 9/20\n",
      "30/30 [==============================] - 2s 59ms/step - loss: 0.0683 - acc: 0.9821 - val_loss: 0.3590 - val_acc: 0.8746\n",
      "Epoch 10/20\n",
      "30/30 [==============================] - 1s 51ms/step - loss: 0.0576 - acc: 0.9862 - val_loss: 0.3743 - val_acc: 0.8757\n",
      "Epoch 11/20\n",
      "30/30 [==============================] - 2s 53ms/step - loss: 0.0471 - acc: 0.9898 - val_loss: 0.4012 - val_acc: 0.8732\n",
      "Epoch 12/20\n",
      "30/30 [==============================] - 2s 53ms/step - loss: 0.0387 - acc: 0.9922 - val_loss: 0.4163 - val_acc: 0.8754\n",
      "Epoch 13/20\n",
      "30/30 [==============================] - 2s 51ms/step - loss: 0.0301 - acc: 0.9939 - val_loss: 0.4494 - val_acc: 0.8733\n",
      "Epoch 14/20\n",
      "30/30 [==============================] - 2s 52ms/step - loss: 0.0248 - acc: 0.9954 - val_loss: 0.4766 - val_acc: 0.8715\n",
      "Epoch 15/20\n",
      "30/30 [==============================] - 2s 53ms/step - loss: 0.0184 - acc: 0.9968 - val_loss: 0.5091 - val_acc: 0.8700\n",
      "Epoch 16/20\n",
      "30/30 [==============================] - 2s 52ms/step - loss: 0.0155 - acc: 0.9972 - val_loss: 0.5391 - val_acc: 0.8700\n",
      "Epoch 17/20\n",
      "30/30 [==============================] - 2s 67ms/step - loss: 0.0103 - acc: 0.9991 - val_loss: 0.5771 - val_acc: 0.8675\n",
      "Epoch 18/20\n",
      "30/30 [==============================] - 2s 54ms/step - loss: 0.0086 - acc: 0.9993 - val_loss: 0.6147 - val_acc: 0.8675\n",
      "Epoch 19/20\n",
      "30/30 [==============================] - 2s 53ms/step - loss: 0.0071 - acc: 0.9993 - val_loss: 0.6564 - val_acc: 0.8662\n",
      "Epoch 20/20\n",
      "30/30 [==============================] - 2s 52ms/step - loss: 0.0050 - acc: 0.9997 - val_loss: 0.6887 - val_acc: 0.8645\n"
     ]
    }
   ],
   "source": [
    "history  = model.fit(partial_x_train, partial_y_train, epochs=20, batch_size=512, validation_data=(x_validate,y_validate))"
   ]
  },
  {
   "cell_type": "markdown",
   "metadata": {},
   "source": [
    "##### Plotting the loss, accuracy of the model"
   ]
  },
  {
   "cell_type": "code",
   "execution_count": 11,
   "metadata": {},
   "outputs": [
    {
     "data": {
      "image/png": "[encoded data removed]",
      "text/plain": [
       "<Figure size 432x288 with 1 Axes>"
      ]
     },
     "metadata": {
      "needs_background": "light"
     },
     "output_type": "display_data"
    }
   ],
   "source": [
    "import matplotlib.pyplot as plt \n",
    "%matplotlib inline\n",
    "\n",
    "history_dict = history.history\n",
    "loss_values = history_dict['loss']\n",
    "validation_loss_values = history_dict['val_loss']\n",
    "\n",
    "epochs = range(1, len(loss_values)+1)\n",
    "\n",
    "plt.plot(epochs, loss_values, 'ro', label=\"Training Loss\")\n",
    "plt.plot(epochs, validation_loss_values, 'r', label=\"Validation Loss\")\n",
    "plt.title(\"Training and Validation Loss\")\n",
    "plt.xlabel(\"Epochs\")\n",
    "plt.ylabel(\"Loss\")\n",
    "plt.legend()\n",
    "plt.show()\n"
   ]
  },
  {
   "cell_type": "code",
   "execution_count": 12,
   "metadata": {},
   "outputs": [
    {
     "data": {
      "image/png": "[encoded data removed]",
      "text/plain": [
       "<Figure size 432x288 with 1 Axes>"
      ]
     },
     "metadata": {
      "needs_background": "light"
     },
     "output_type": "display_data"
    }
   ],
   "source": [
    "training_acc = history_dict[\"acc\"]\n",
    "validation_acc = history_dict[\"val_acc\"]\n",
    "\n",
    "plt.plot(epochs,training_acc,\"bo\",label=\"Training Accuracy\")\n",
    "plt.plot(epochs, validation_acc, \"b\", label=\"Validation Accuracy\")\n",
    "\n",
    "plt.xlabel(\"Epochs\")\n",
    "plt.ylabel(\"Accuracy\")\n",
    "plt.legend()\n",
    "plt.show()"
   ]
  },
  {
   "cell_type": "code",
   "execution_count": null,
   "metadata": {},
   "outputs": [],
   "source": []
  }
 ],
 "metadata": {
  "kernelspec": {
   "display_name": "Python 3",
   "language": "python",
   "name": "python3"
  },
  "language_info": {
   "codemirror_mode": {
    "name": "ipython",
    "version": 3
   },
   "file_extension": ".py",
   "mimetype": "text/x-python",
   "name": "python",
   "nbconvert_exporter": "python",
   "pygments_lexer": "ipython3",
   "version": "3.10.2"
  }
 },
 "nbformat": 4,
 "nbformat_minor": 2
}
