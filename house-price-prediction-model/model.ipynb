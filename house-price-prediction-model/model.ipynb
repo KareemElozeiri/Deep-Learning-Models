{
 "cells": [
  {
   "cell_type": "markdown",
   "metadata": {},
   "source": [
    "##### Loading Boston Housing Prices :"
   ]
  },
  {
   "cell_type": "code",
   "execution_count": 1,
   "metadata": {},
   "outputs": [],
   "source": [
    "from keras.datasets import boston_housing\n",
    "(train_data, train_labels), (test_data, test_labels) = boston_housing.load_data()"
   ]
  },
  {
   "cell_type": "code",
   "execution_count": 2,
   "metadata": {},
   "outputs": [
    {
     "name": "stdout",
     "output_type": "stream",
     "text": [
      "Data(Samples number, features number) (404, 13)\n",
      "Data 0 [  1.23247   0.        8.14      0.        0.538     6.142    91.7\n",
      "   3.9769    4.      307.       21.      396.9      18.72   ]\n",
      "Label 0 15.2\n"
     ]
    }
   ],
   "source": [
    "#data infor\n",
    "print(\"Data(Samples number, features number)\",train_data.shape)\n",
    "print(\"Data 0\",train_data[0])\n",
    "print(\"Label 0\",train_labels[0])"
   ]
  },
  {
   "cell_type": "markdown",
   "metadata": {},
   "source": [
    "Note: The prices listed here are by thousands of dollars and they were recorded at 1970s"
   ]
  },
  {
   "cell_type": "markdown",
   "metadata": {},
   "source": [
    "##### Preparing the data :"
   ]
  },
  {
   "cell_type": "code",
   "execution_count": 3,
   "metadata": {},
   "outputs": [],
   "source": [
    "# normalizing data\n",
    "mean = train_data.mean(axis=0)\n",
    "train_data = train_data - mean \n",
    "standard_deviation = train_data.std(axis=0)\n",
    "train_data =  train_data/standard_deviation\n",
    "\n",
    "test_data = (test_data - mean)/standard_deviation "
   ]
  },
  {
   "cell_type": "markdown",
   "metadata": {},
   "source": [
    "##### Building the Neural Net :"
   ]
  },
  {
   "cell_type": "code",
   "execution_count": 4,
   "metadata": {},
   "outputs": [],
   "source": [
    "from keras import models, layers "
   ]
  },
  {
   "cell_type": "code",
   "execution_count": 16,
   "metadata": {},
   "outputs": [],
   "source": [
    "def model_build():\n",
    "    model = models.Sequential()\n",
    "\n",
    "    model.add(layers.Dense(64, activation=\"relu\", input_shape = [train_data.shape[1]]))\n",
    "    model.add(layers.Dense(64, activation=\"relu\"))\n",
    "    model.add(layers.Dense(1))\n",
    "    '''\n",
    "    Using the loss function mean squared error\n",
    "    Monitoring the mean absolute error\n",
    "    '''\n",
    "    model.compile(optimizer=\"rmsprop\", loss=\"mse\", metrics=[\"mae\"])\n",
    "\n",
    "    return model "
   ]
  },
  {
   "cell_type": "markdown",
   "metadata": {},
   "source": [
    "##### K-Fold validation :"
   ]
  },
  {
   "cell_type": "code",
   "execution_count": 17,
   "metadata": {},
   "outputs": [
    {
     "name": "stdout",
     "output_type": "stream",
     "text": [
      "# Fold No. 0 in progress\n",
      "# Fold No. 1 in progress\n",
      "# Fold No. 2 in progress\n",
      "# Fold No. 3 in progress\n",
      "Scores: [1.1279916763305664, 3.0049052238464355, 2.7582457065582275, 2.418778419494629]\n",
      "Average Score: 2.3274802565574646\n"
     ]
    }
   ],
   "source": [
    "import numpy as np  \n",
    "k = 4\n",
    "validation_samples_length = len(train_data) //k \n",
    "epochs = 100\n",
    "all_scores = [] \n",
    "\n",
    "\n",
    "for i in range(k):\n",
    "    print(f\"# Fold No. %d in progress\" %(i) )\n",
    "\n",
    "    validation_data = train_data[i*validation_samples_length : (i+1)*validation_samples_length]\n",
    "    validation_labels = train_labels[i*validation_samples_length : (i+1)*validation_samples_length]\n",
    "\n",
    "    partial_train_data = np.concatenate([train_data[:i*validation_samples_length],train_data[(i+1)**validation_samples_length:]],axis=0)\n",
    "    partial_train_labels = np.concatenate([train_labels[:i*validation_samples_length],train_labels[(i+1)**validation_samples_length:]],axis=0)\n",
    "\n",
    "    model = model_build()\n",
    "    model.fit(partial_train_data,partial_train_labels,epochs=epochs,batch_size=1,verbose=0) # verbose = 0 for training in silent mode\n",
    "\n",
    "    validation_mse, validation_mae =  model.evaluate(validation_data, validation_labels, verbose=0)\n",
    "    all_scores.append(validation_mae)\n",
    "\n",
    "print(\"Scores:\",all_scores)\n",
    "print(\"Average Score:\",np.mean(all_scores))\n"
   ]
  },
  {
   "cell_type": "code",
   "execution_count": 21,
   "metadata": {},
   "outputs": [
    {
     "name": "stdout",
     "output_type": "stream",
     "text": [
      "[[10.839981]\n",
      " [18.256622]\n",
      " [20.613129]\n",
      " [30.695244]\n",
      " [22.931265]\n",
      " [23.170025]\n",
      " [27.710232]\n",
      " [23.099907]\n",
      " [20.118961]\n",
      " [19.824707]\n",
      " [22.840002]\n",
      " [17.124086]\n",
      " [16.157604]\n",
      " [40.77371 ]\n",
      " [21.122396]\n",
      " [22.266024]\n",
      " [24.537926]\n",
      " [25.089478]\n",
      " [20.142338]\n",
      " [35.939205]\n",
      " [12.200425]\n",
      " [10.093746]\n",
      " [20.226116]\n",
      " [15.316666]\n",
      " [20.153648]\n",
      " [21.22078 ]\n",
      " [30.047235]\n",
      " [27.478077]\n",
      " [13.725391]\n",
      " [21.456408]\n",
      " [19.635149]\n",
      " [16.722866]\n",
      " [34.262344]\n",
      " [24.129278]\n",
      " [19.02261 ]\n",
      " [ 9.056598]\n",
      " [15.682294]\n",
      " [18.503672]\n",
      " [21.348484]\n",
      " [24.565517]\n",
      " [31.665834]\n",
      " [26.464455]\n",
      " [13.477536]\n",
      " [39.45702 ]\n",
      " [25.895704]\n",
      " [25.041546]\n",
      " [26.382942]\n",
      " [19.178768]\n",
      " [22.592827]\n",
      " [22.158396]\n",
      " [32.244232]\n",
      " [19.203   ]\n",
      " [10.221297]\n",
      " [14.917288]\n",
      " [35.130894]\n",
      " [27.789892]\n",
      " [11.520079]\n",
      " [47.9184  ]\n",
      " [33.259796]\n",
      " [25.478222]\n",
      " [17.782915]\n",
      " [14.286909]\n",
      " [16.78291 ]\n",
      " [19.9715  ]\n",
      " [23.831802]\n",
      " [21.95232 ]\n",
      " [13.039086]\n",
      " [21.933075]\n",
      " [11.13858 ]\n",
      " [ 7.620417]\n",
      " [34.39413 ]\n",
      " [28.167555]\n",
      " [25.962315]\n",
      " [11.77148 ]\n",
      " [23.999847]\n",
      " [22.149487]\n",
      " [20.839098]\n",
      " [23.237782]\n",
      " [35.504795]\n",
      " [ 9.747854]\n",
      " [22.645561]\n",
      " [37.702534]\n",
      " [15.921917]\n",
      " [13.029619]\n",
      " [19.086988]\n",
      " [19.79075 ]\n",
      " [20.182938]\n",
      " [21.147686]\n",
      " [22.34171 ]\n",
      " [23.55    ]\n",
      " [20.120663]\n",
      " [21.983322]\n",
      " [25.791616]\n",
      " [41.11747 ]\n",
      " [35.87678 ]\n",
      " [19.019085]\n",
      " [35.68881 ]\n",
      " [47.277817]\n",
      " [24.424034]\n",
      " [46.07246 ]\n",
      " [29.635572]\n",
      " [23.656372]]\n"
     ]
    }
   ],
   "source": [
    "print(model.predict(test_data))"
   ]
  },
  {
   "cell_type": "code",
   "execution_count": 20,
   "metadata": {},
   "outputs": [
    {
     "data": {
      "text/plain": [
       "array([ 7.2, 18.8, 19. , 27. , 22.2, 24.5, 31.2, 22.9, 20.5, 23.2, 18.6,\n",
       "       14.5, 17.8, 50. , 20.8, 24.3, 24.2, 19.8, 19.1, 22.7, 12. , 10.2,\n",
       "       20. , 18.5, 20.9, 23. , 27.5, 30.1,  9.5, 22. , 21.2, 14.1, 33.1,\n",
       "       23.4, 20.1,  7.4, 15.4, 23.8, 20.1, 24.5, 33. , 28.4, 14.1, 46.7,\n",
       "       32.5, 29.6, 28.4, 19.8, 20.2, 25. , 35.4, 20.3,  9.7, 14.5, 34.9,\n",
       "       26.6,  7.2, 50. , 32.4, 21.6, 29.8, 13.1, 27.5, 21.2, 23.1, 21.9,\n",
       "       13. , 23.2,  8.1,  5.6, 21.7, 29.6, 19.6,  7. , 26.4, 18.9, 20.9,\n",
       "       28.1, 35.4, 10.2, 24.3, 43.1, 17.6, 15.4, 16.2, 27.1, 21.4, 21.5,\n",
       "       22.4, 25. , 16.6, 18.6, 22. , 42.8, 35.1, 21.5, 36. , 21.9, 24.1,\n",
       "       50. , 26.7, 25. ])"
      ]
     },
     "execution_count": 20,
     "metadata": {},
     "output_type": "execute_result"
    }
   ],
   "source": [
    "test_labels"
   ]
  },
  {
   "cell_type": "code",
   "execution_count": null,
   "metadata": {},
   "outputs": [],
   "source": []
  }
 ],
 "metadata": {
  "interpreter": {
   "hash": "4f3b078249380ea762697f4f8f6aea77b3d6e43cbb1b18cbb73d8cde5aa597e7"
  },
  "kernelspec": {
   "display_name": "Python 3.9.10 64-bit (system)",
   "language": "python",
   "name": "python3"
  },
  "language_info": {
   "codemirror_mode": {
    "name": "ipython",
    "version": 3
   },
   "file_extension": ".py",
   "mimetype": "text/x-python",
   "name": "python",
   "nbconvert_exporter": "python",
   "pygments_lexer": "ipython3",
   "version": "3.10.2"
  },
  "orig_nbformat": 4
 },
 "nbformat": 4,
 "nbformat_minor": 2
}
