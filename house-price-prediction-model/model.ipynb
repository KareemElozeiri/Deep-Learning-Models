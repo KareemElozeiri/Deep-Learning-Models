{
 "cells": [
  {
   "cell_type": "markdown",
   "metadata": {},
   "source": [
    "##### Loading Boston Housing Prices :"
   ]
  },
  {
   "cell_type": "code",
   "execution_count": 1,
   "metadata": {},
   "outputs": [],
   "source": [
    "from keras.datasets import boston_housing\n",
    "(train_data, train_labels), (test_data, test_labels) = boston_housing.load_data()"
   ]
  },
  {
   "cell_type": "code",
   "execution_count": 2,
   "metadata": {},
   "outputs": [
    {
     "name": "stdout",
     "output_type": "stream",
     "text": [
      "Data(Samples number, features number) (404, 13)\n",
      "Data 0 [  1.23247   0.        8.14      0.        0.538     6.142    91.7\n",
      "   3.9769    4.      307.       21.      396.9      18.72   ]\n",
      "Label 0 15.2\n"
     ]
    }
   ],
   "source": [
    "#data infor\n",
    "print(\"Data(Samples number, features number)\",train_data.shape)\n",
    "print(\"Data 0\",train_data[0])\n",
    "print(\"Label 0\",train_labels[0])"
   ]
  },
  {
   "cell_type": "markdown",
   "metadata": {},
   "source": [
    "Note: The prices listed here are by thousands of dollars and they were recorded at 1970s"
   ]
  },
  {
   "cell_type": "markdown",
   "metadata": {},
   "source": [
    "##### Preparing the data :"
   ]
  },
  {
   "cell_type": "code",
   "execution_count": 3,
   "metadata": {},
   "outputs": [],
   "source": [
    "# normalizing data\n",
    "mean = train_data.mean(axis=0)\n",
    "train_data = train_data - mean \n",
    "standard_deviation = train_data.std(axis=0)\n",
    "train_data =  train_data/standard_deviation\n",
    "\n",
    "test_data = (test_data - mean)/standard_deviation "
   ]
  },
  {
   "cell_type": "markdown",
   "metadata": {},
   "source": [
    "##### Building the Neural Net :"
   ]
  },
  {
   "cell_type": "code",
   "execution_count": 4,
   "metadata": {},
   "outputs": [],
   "source": [
    "from keras import models, layers "
   ]
  },
  {
   "cell_type": "code",
   "execution_count": 5,
   "metadata": {},
   "outputs": [],
   "source": [
    "def model_build():\n",
    "    model = models.Sequential()\n",
    "\n",
    "    model.add(layers.Dense(64, activation=\"relu\", input_shape = [train_data.shape[1]]))\n",
    "    model.add(layers.Dense(64, activation=\"relu\"))\n",
    "    model.add(layers.Dense(1))\n",
    "    '''\n",
    "    Using the loss function mean squared error\n",
    "    Monitoring the mean absolute error\n",
    "    '''\n",
    "    model.compile(optimizer=\"rmsprop\", loss=\"mse\", metrics=[\"mae\"])\n",
    "\n",
    "    return model "
   ]
  },
  {
   "cell_type": "markdown",
   "metadata": {},
   "source": [
    "##### K-Fold validation :"
   ]
  },
  {
   "cell_type": "code",
   "execution_count": 6,
   "metadata": {},
   "outputs": [
    {
     "name": "stdout",
     "output_type": "stream",
     "text": [
      "# Fold No. 0 in progress\n",
      "# Fold No. 1 in progress\n",
      "# Fold No. 2 in progress\n",
      "# Fold No. 3 in progress\n",
      "Scores: [0.9665631651878357, 2.9986319541931152, 2.9095685482025146, 2.444899797439575]\n",
      "Average Score: 2.32991586625576\n"
     ]
    }
   ],
   "source": [
    "import numpy as np  \n",
    "k = 4\n",
    "validation_samples_length = len(train_data) //k \n",
    "epochs = 100\n",
    "all_scores = [] \n",
    "\n",
    "\n",
    "for i in range(k):\n",
    "    print(f\"# Fold No. %d in progress\" %(i) )\n",
    "\n",
    "    validation_data = train_data[i*validation_samples_length : (i+1)*validation_samples_length]\n",
    "    validation_labels = train_labels[i*validation_samples_length : (i+1)*validation_samples_length]\n",
    "\n",
    "    partial_train_data = np.concatenate([train_data[:i*validation_samples_length],train_data[(i+1)**validation_samples_length:]],axis=0)\n",
    "    partial_train_labels = np.concatenate([train_labels[:i*validation_samples_length],train_labels[(i+1)**validation_samples_length:]],axis=0)\n",
    "\n",
    "    model = model_build()\n",
    "    model.fit(partial_train_data,partial_train_labels,epochs=epochs,batch_size=1,verbose=0) # verbose = 0 for training in silent mode\n",
    "\n",
    "    validation_mse, validation_mae =  model.evaluate(validation_data, validation_labels, verbose=0)\n",
    "    all_scores.append(validation_mae)\n",
    "\n",
    "print(\"Scores:\",all_scores)\n",
    "print(\"Average Score:\",np.mean(all_scores))\n"
   ]
  },
  {
   "cell_type": "code",
   "execution_count": 7,
   "metadata": {},
   "outputs": [
    {
     "name": "stdout",
     "output_type": "stream",
     "text": [
      "[[ 8.811065 ]\n",
      " [18.511673 ]\n",
      " [20.161667 ]\n",
      " [28.666632 ]\n",
      " [23.038918 ]\n",
      " [22.847248 ]\n",
      " [26.9155   ]\n",
      " [21.752037 ]\n",
      " [20.016212 ]\n",
      " [18.735018 ]\n",
      " [17.45924  ]\n",
      " [17.168545 ]\n",
      " [16.385084 ]\n",
      " [42.06768  ]\n",
      " [21.409285 ]\n",
      " [20.680473 ]\n",
      " [24.031948 ]\n",
      " [23.212616 ]\n",
      " [18.357496 ]\n",
      " [27.899033 ]\n",
      " [12.915674 ]\n",
      " [ 9.879759 ]\n",
      " [20.805386 ]\n",
      " [18.30429  ]\n",
      " [20.52139  ]\n",
      " [19.289774 ]\n",
      " [30.315228 ]\n",
      " [24.106682 ]\n",
      " [11.702855 ]\n",
      " [20.934677 ]\n",
      " [19.996063 ]\n",
      " [16.037035 ]\n",
      " [31.42141  ]\n",
      " [22.95788  ]\n",
      " [20.042734 ]\n",
      " [ 8.194087 ]\n",
      " [16.915588 ]\n",
      " [17.849236 ]\n",
      " [17.622387 ]\n",
      " [23.094946 ]\n",
      " [32.67517  ]\n",
      " [26.234745 ]\n",
      " [11.684395 ]\n",
      " [41.674416 ]\n",
      " [27.361284 ]\n",
      " [25.010704 ]\n",
      " [25.98332  ]\n",
      " [19.502443 ]\n",
      " [19.126053 ]\n",
      " [22.959911 ]\n",
      " [31.357075 ]\n",
      " [19.973576 ]\n",
      " [10.396307 ]\n",
      " [14.367952 ]\n",
      " [35.480854 ]\n",
      " [27.11938  ]\n",
      " [10.577336 ]\n",
      " [49.870155 ]\n",
      " [32.826958 ]\n",
      " [25.898127 ]\n",
      " [18.33131  ]\n",
      " [12.8228855]\n",
      " [17.401817 ]\n",
      " [20.16452  ]\n",
      " [23.230312 ]\n",
      " [20.948883 ]\n",
      " [13.864914 ]\n",
      " [22.310934 ]\n",
      " [12.686216 ]\n",
      " [ 7.625025 ]\n",
      " [29.360676 ]\n",
      " [26.9058   ]\n",
      " [22.490532 ]\n",
      " [12.531422 ]\n",
      " [25.874561 ]\n",
      " [22.72234  ]\n",
      " [20.313179 ]\n",
      " [24.84774  ]\n",
      " [36.334396 ]\n",
      " [10.803959 ]\n",
      " [22.099934 ]\n",
      " [39.191948 ]\n",
      " [15.907011 ]\n",
      " [11.841982 ]\n",
      " [18.40854  ]\n",
      " [21.174072 ]\n",
      " [20.004984 ]\n",
      " [20.418116 ]\n",
      " [22.552658 ]\n",
      " [21.729568 ]\n",
      " [20.249252 ]\n",
      " [21.004673 ]\n",
      " [27.987263 ]\n",
      " [42.433716 ]\n",
      " [34.96089  ]\n",
      " [20.481655 ]\n",
      " [35.998695 ]\n",
      " [41.128815 ]\n",
      " [24.753925 ]\n",
      " [46.892914 ]\n",
      " [32.246647 ]\n",
      " [22.212473 ]]\n"
     ]
    }
   ],
   "source": [
    "print(model.predict(test_data))"
   ]
  },
  {
   "cell_type": "code",
   "execution_count": 8,
   "metadata": {},
   "outputs": [
    {
     "data": {
      "text/plain": [
       "array([ 7.2, 18.8, 19. , 27. , 22.2, 24.5, 31.2, 22.9, 20.5, 23.2, 18.6,\n",
       "       14.5, 17.8, 50. , 20.8, 24.3, 24.2, 19.8, 19.1, 22.7, 12. , 10.2,\n",
       "       20. , 18.5, 20.9, 23. , 27.5, 30.1,  9.5, 22. , 21.2, 14.1, 33.1,\n",
       "       23.4, 20.1,  7.4, 15.4, 23.8, 20.1, 24.5, 33. , 28.4, 14.1, 46.7,\n",
       "       32.5, 29.6, 28.4, 19.8, 20.2, 25. , 35.4, 20.3,  9.7, 14.5, 34.9,\n",
       "       26.6,  7.2, 50. , 32.4, 21.6, 29.8, 13.1, 27.5, 21.2, 23.1, 21.9,\n",
       "       13. , 23.2,  8.1,  5.6, 21.7, 29.6, 19.6,  7. , 26.4, 18.9, 20.9,\n",
       "       28.1, 35.4, 10.2, 24.3, 43.1, 17.6, 15.4, 16.2, 27.1, 21.4, 21.5,\n",
       "       22.4, 25. , 16.6, 18.6, 22. , 42.8, 35.1, 21.5, 36. , 21.9, 24.1,\n",
       "       50. , 26.7, 25. ])"
      ]
     },
     "execution_count": 8,
     "metadata": {},
     "output_type": "execute_result"
    }
   ],
   "source": [
    "test_labels"
   ]
  },
  {
   "cell_type": "code",
   "execution_count": null,
   "metadata": {},
   "outputs": [],
   "source": []
  }
 ],
 "metadata": {
  "interpreter": {
   "hash": "4f3b078249380ea762697f4f8f6aea77b3d6e43cbb1b18cbb73d8cde5aa597e7"
  },
  "kernelspec": {
   "display_name": "Python 3.9.10 64-bit (system)",
   "language": "python",
   "name": "python3"
  },
  "language_info": {
   "codemirror_mode": {
    "name": "ipython",
    "version": 3
   },
   "file_extension": ".py",
   "mimetype": "text/x-python",
   "name": "python",
   "nbconvert_exporter": "python",
   "pygments_lexer": "ipython3",
   "version": "3.10.2"
  },
  "orig_nbformat": 4
 },
 "nbformat": 4,
 "nbformat_minor": 2
}
